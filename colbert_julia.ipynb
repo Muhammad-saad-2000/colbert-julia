{
  "cells": [
    {
      "cell_type": "markdown",
      "metadata": {
        "id": "NLrWL0hMRPBM"
      },
      "source": [
        "# Implementation"
      ]
    },
    {
      "cell_type": "code",
      "execution_count": 1,
      "metadata": {
        "colab": {
          "base_uri": "https://localhost:8080/"
        },
        "id": "N3XtXip5SN0G",
        "outputId": "93ea9b42-70ee-4860-d253-7c609522cdb6"
      },
      "outputs": [
        {
          "name": "stderr",
          "output_type": "stream",
          "text": [
            "\u001b[32m\u001b[1m  Activating\u001b[22m\u001b[39m project at `/content`\n",
            "\u001b[32m\u001b[1m   Resolving\u001b[22m\u001b[39m package versions...\n",
            "\u001b[32m\u001b[1m  No Changes\u001b[22m\u001b[39m to `/content/Project.toml`\n",
            "\u001b[32m\u001b[1m  No Changes\u001b[22m\u001b[39m to `/content/Manifest.toml`\n",
            "\u001b[32m\u001b[1m   Resolving\u001b[22m\u001b[39m package versions...\n",
            "\u001b[32m\u001b[1m  No Changes\u001b[22m\u001b[39m to `/content/Project.toml`\n",
            "\u001b[32m\u001b[1m  No Changes\u001b[22m\u001b[39m to `/content/Manifest.toml`\n",
            "\u001b[32m\u001b[1m   Resolving\u001b[22m\u001b[39m package versions...\n",
            "\u001b[32m\u001b[1m  No Changes\u001b[22m\u001b[39m to `/content/Project.toml`\n",
            "\u001b[32m\u001b[1m  No Changes\u001b[22m\u001b[39m to `/content/Manifest.toml`\n"
          ]
        }
      ],
      "source": [
        "import Pkg; Pkg.activate(\".\"); Pkg.add(\"Transformers\"); Pkg.add(\"Pickle\"); Pkg.add(\"Flux\");"
      ]
    },
    {
      "cell_type": "code",
      "execution_count": 2,
      "metadata": {
        "id": "FoEZ-OVuArRK"
      },
      "outputs": [],
      "source": [
        "using Transformers\n",
        "using Transformers.TextEncoders\n",
        "using Transformers.HuggingFace\n",
        "using Flux\n",
        "using Pickle"
      ]
    },
    {
      "cell_type": "code",
      "execution_count": 3,
      "metadata": {
        "colab": {
          "base_uri": "https://localhost:8080/"
        },
        "id": "36kIwe0jEXQJ",
        "outputId": "4c49270d-37c2-4008-8658-b248957142ce"
      },
      "outputs": [
        {
          "data": {
            "text/plain": [
              "copy_with_modification (generic function with 1 method)"
            ]
          },
          "execution_count": 3,
          "metadata": {},
          "output_type": "execute_result"
        }
      ],
      "source": [
        "function copy_with_modification(original::T, field_to_change, new_value) where {T}\n",
        "    val(field) = field == field_to_change ? new_value : getfield(original, field)\n",
        "    T(val.(fieldnames(T))...)\n",
        "end"
      ]
    },
    {
      "cell_type": "code",
      "execution_count": 4,
      "metadata": {
        "colab": {
          "base_uri": "https://localhost:8080/"
        },
        "id": "XARIoKlHZgUo",
        "outputId": "a5a77939-6b84-4922-cbe9-d248931e024e"
      },
      "outputs": [
        {
          "data": {
            "text/plain": [
              "1"
            ]
          },
          "execution_count": 4,
          "metadata": {},
          "output_type": "execute_result"
        }
      ],
      "source": [
        "const query_marker_token = 2\n",
        "const document_marker_token = 3\n",
        "const cls_token = 102\n",
        "const sep_token = 103\n",
        "const mask_token = 104\n",
        "const pad_token  = 1"
      ]
    },
    {
      "cell_type": "code",
      "execution_count": 5,
      "metadata": {
        "id": "3Yh4fwfW78-S"
      },
      "outputs": [],
      "source": [
        "struct ColBERT\n",
        "  bert::Transformers.HuggingFace.HGFBertModel\n",
        "  linear::Dense\n",
        "end\n",
        "\n",
        "function l2_normalization(x::Array)\n",
        "  l2_norm = sqrt.(sum(x.^2, dims=1))\n",
        "\n",
        "  return x./l2_norm\n",
        "end\n",
        "\n",
        "function encode_query(query::AbstractString)\n",
        "    query = \". \" * query\n",
        "    original_tokens = encode(textencoder, query).token\n",
        "    tokens = copy_with_modification(original_tokens, :onehots, setindex!(original_tokens.onehots, query_marker_token, 2))\n",
        "    return (; token = tokens)\n",
        "end\n",
        "\n",
        "function encode_document(doc::AbstractString)\n",
        "    doc = \". \" * doc\n",
        "    original_tokens = encode(textencoder, doc).token\n",
        "    tokens = copy_with_modification(original_tokens, :onehots, setindex!(original_tokens.onehots, document_marker_token, 2))\n",
        "    return (; token = tokens)\n",
        "end\n",
        "\n",
        "function (m::ColBERT)(query_ids, doc_ids)\n",
        "    Q = m.bert(query_ids).hidden_state\n",
        "    Q = m.linear(Q)\n",
        "    Q = l2_normalization(Q)\n",
        "    Q_unsqueezed = reshape(Q, size(Q)[1], 1, size(Q)[2], size(Q)[3])\n",
        "\n",
        "    D = m.bert(doc_ids).hidden_state\n",
        "    D = m.linear(D)\n",
        "    D = l2_normalization(D)\n",
        "    D_unsqueezed = reshape(D, size(D)[1], size(D)[2], 1, size(D)[3])\n",
        "\n",
        "\n",
        "    squared_diff =  (Q_unsqueezed .- D_unsqueezed).^2\n",
        "    summed_squared_diff = 2 .- sum(squared_diff, dims=1)\n",
        "\n",
        "    result =  summed_squared_diff\n",
        "    max_values = maximum(result, dims=2)\n",
        "\n",
        "    return sum(max_values, dims=3)[1]\n",
        "end"
      ]
    },
    {
      "cell_type": "code",
      "execution_count": 6,
      "metadata": {
        "colab": {
          "base_uri": "https://localhost:8080/"
        },
        "id": "2SXjRTpeGmxS",
        "outputId": "9d343b09-9fa1-4bf3-b16d-cdf0087f7ad7"
      },
      "outputs": [
        {
          "data": {
            "text/plain": [
              "ColBERT(HGFBertModel(Chain(CompositeEmbedding(token = Embed(768, 30522), position = ApplyEmbed(.+, FixedLenPositionEmbed(768, 512)), segment = ApplyEmbed(.+, Embed(768, 2), Transformers.HuggingFace.bert_ones_like)), DropoutLayer<nothing>(LayerNorm(768, ϵ = 1.0e-12))), Transformer<12>(PostNormTransformerBlock(DropoutLayer<nothing>(SelfAttention(MultiheadQKVAttenOp(head = 12, p = nothing), Fork<3>(Dense(W = (768, 768), b = true)), Dense(W = (768, 768), b = true))), LayerNorm(768, ϵ = 1.0e-12), DropoutLayer<nothing>(Chain(Dense(σ = NNlib.gelu, W = (768, 3072), b = true), Dense(W = (3072, 768), b = true))), LayerNorm(768, ϵ = 1.0e-12))), Branch{(:pooled,) = (:hidden_state,)}(BertPooler(Dense(σ = NNlib.tanh_fast, W = (768, 768), b = true)))), Dense(768 => 128))"
            ]
          },
          "execution_count": 6,
          "metadata": {},
          "output_type": "execute_result"
        }
      ],
      "source": [
        "textencoder, bert_model = hgf\"colbert-ir/colbertv2.0\"\n",
        "colbert_parameters = Pickle.Torch.THload(\"pytorch_model.bin\")\n",
        "linear_layer = Dense(Matrix(colbert_parameters[\"linear.weight\"]))\n",
        "\n",
        "model = ColBERT(bert_model, linear_layer)"
      ]
    },
    {
      "cell_type": "markdown",
      "metadata": {
        "id": "wFohaglbugvm"
      },
      "source": [
        "# Examples"
      ]
    },
    {
      "cell_type": "code",
      "execution_count": 7,
      "metadata": {
        "colab": {
          "base_uri": "https://localhost:8080/"
        },
        "id": "e0VIz_VAaDLQ",
        "outputId": "2373f985-f339-4889-cb6f-5cfb1626efa8"
      },
      "outputs": [
        {
          "name": "stdout",
          "output_type": "stream",
          "text": [
            "12.528865\n",
            "2.7685688\n",
            "7.5746684\n",
            "3.380197\n"
          ]
        }
      ],
      "source": [
        "query = \"what is Julia language\"\n",
        "documents=[\"Julia is a greate language\",\n",
        "           \"I don't know\",\n",
        "           \"Julia is my sister; she helpes with cleaning my room\",\n",
        "           \"Harry Potter is a series of seven fantasy novels written by J. K. Rowling\"]\n",
        "\n",
        "Q = encode_query(query)\n",
        "D = [encode_document(doc) for doc in documents]\n",
        "\n",
        "\n",
        "println(model(Q, D[1]))\n",
        "println(model(Q, D[2]))\n",
        "println(model(Q, D[3]))\n",
        "println(model(Q, D[4]))"
      ]
    },
    {
      "cell_type": "code",
      "execution_count": 8,
      "metadata": {
        "colab": {
          "base_uri": "https://localhost:8080/",
          "height": 104
        },
        "id": "-wnPG_hktcA9",
        "outputId": "1d649384-2ede-4262-b022-0a0b55afed28"
      },
      "outputs": [
        {
          "data": {
            "text/plain": [
              "4-element Vector{Tuple{String, Float64}}:\n",
              " (\"Julia is a greate language\", 12.528864860534668)\n",
              " (\"Julia is my sister; she helpes with cleaning my room\", 7.5746684074401855)\n",
              " (\"Harry Potter is a series of seven fantasy novels written by J. K. Rowling\", 3.380197048187256)\n",
              " (\"I don't know\", 2.768568754196167)"
            ]
          },
          "metadata": {},
          "output_type": "display_data"
        }
      ],
      "source": [
        "query = \"What is Julia language\"\n",
        "documents=[\"Julia is a greate language\",\n",
        "           \"I don't know\",\n",
        "           \"Julia is my sister; she helpes with cleaning my room\",\n",
        "           \"Harry Potter is a series of seven fantasy novels written by J. K. Rowling\"]\n",
        "\n",
        "scores = zeros(length(documents))\n",
        "encoded_query = encode_query(query)\n",
        "encoded_documens = [encode_document(doc) for doc in documents]\n",
        "\n",
        "for (i, encoded_doc) in enumerate(encoded_documens)\n",
        "    scores[i] = model(encoded_query, encoded_doc)\n",
        "end\n",
        "\n",
        "document_pairs = collect(zip(1:length(scores), scores))\n",
        "\n",
        "document_order = sort(document_pairs, by = x -> x[2], rev = true)[:, 1]\n",
        "ordered_documents = [(documents[i], score) for (i, score) in document_order]\n",
        "\n",
        "display(ordered_documents)"
      ]
    },
    {
      "cell_type": "code",
      "execution_count": 9,
      "metadata": {
        "id": "5R7e2LxI-zi-"
      },
      "outputs": [],
      "source": []
    }
  ],
  "metadata": {
    "colab": {
      "collapsed_sections": [
        "DNrUDv6FRGe3"
      ],
      "provenance": []
    },
    "kernelspec": {
      "display_name": "Julia 1.10.2",
      "name": "julia-1.10"
    }
  },
  "nbformat": 4,
  "nbformat_minor": 0
}
